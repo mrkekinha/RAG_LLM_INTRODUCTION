{
 "cells": [
  {
   "cell_type": "markdown",
   "id": "2cb7f6d5",
   "metadata": {},
   "source": [
    "### Importando as bibliotecas "
   ]
  },
  {
   "cell_type": "code",
   "execution_count": 93,
   "id": "cc329c98",
   "metadata": {},
   "outputs": [],
   "source": [
    "import os\n",
    "from dotenv import load_dotenv, find_dotenv\n",
    "\n",
    "from langchain_cohere import CohereEmbeddings #faz o embedd\n",
    "from langchain_community.document_loaders import TextLoader # permite carregar arquivos de texto\n",
    "from langchain_text_splitters import CharacterTextSplitter #etapa de fatiamento dos textos em partes menores\n",
    "\n",
    "from langchain_pinecone import PineconeVectorStore #permite armazenar os vetores no pinecone\n",
    "from langchain.memory import ConversationBufferMemory #buffer para uma memoria\n",
    "\n",
    "from langchain.chains.combine_documents import create_stuff_documents_chain\n",
    "from langchain.chains.retrieval import create_retrieval_chain\n",
    "\n",
    "from langchain_groq import ChatGroq\n",
    "from langchain import hub\n",
    "\n",
    "\n",
    "\n"
   ]
  },
  {
   "cell_type": "markdown",
   "id": "2cabc1b2",
   "metadata": {},
   "source": [
    "### Carregar as variáveis de ambiente"
   ]
  },
  {
   "cell_type": "code",
   "execution_count": 94,
   "id": "a3ddcd47",
   "metadata": {},
   "outputs": [],
   "source": [
    "load_dotenv (find_dotenv())\n",
    "\n",
    "COHERE_API_KEY = os.getenv(\"COHERE_API_KEY\")\n",
    "PINECONE_API_KEY = os.getenv(\"PINECONE_API_KEY\")\n",
    "GROQ_API_KEY = os.getenv(\"GROQ_API_KEY\")\n"
   ]
  },
  {
   "cell_type": "markdown",
   "id": "6384c320",
   "metadata": {},
   "source": [
    "### Instanciar o banco de dados do PINECONE\n",
    "\n",
    "OBS: primeito devemos criar o index no pinecone cloud"
   ]
  },
  {
   "cell_type": "code",
   "execution_count": 95,
   "id": "8096e65e",
   "metadata": {},
   "outputs": [],
   "source": [
    "index_name = \"rag-demo\"\n",
    "embeddings = CohereEmbeddings (\n",
    "\n",
    "    model=\"embed-english-v3.0\",\n",
    "    cohere_api_key=COHERE_API_KEY\n",
    ")"
   ]
  },
  {
   "cell_type": "markdown",
   "id": "16d54178",
   "metadata": {},
   "source": [
    "### Criando a memoria"
   ]
  },
  {
   "cell_type": "code",
   "execution_count": 96,
   "id": "5e50b7db",
   "metadata": {},
   "outputs": [],
   "source": [
    "memory = ConversationBufferMemory (\n",
    "    memory_key= \"chat_history\",\n",
    "    return_messages=True\n",
    ")"
   ]
  },
  {
   "cell_type": "markdown",
   "id": "1e305d1b",
   "metadata": {},
   "source": [
    "###  Carregamento/Ingestão do documento"
   ]
  },
  {
   "cell_type": "code",
   "execution_count": 97,
   "id": "58ebd144",
   "metadata": {},
   "outputs": [
    {
     "name": "stdout",
     "output_type": "stream",
     "text": [
      "🔥Carregando os documentos...\n",
      "\n",
      "\n"
     ]
    }
   ],
   "source": [
    "print(\"🔥Carregando os documentos...\\n\\n\")\n",
    "\n",
    "PATH_FILE = \"C:\\\\Users\\\\Maria Raquel\\\\RAG_LLM_INTRODUCTION\\\\data\\\\mediumblog1.txt\"\n",
    "loader = TextLoader(PATH_FILE)\n",
    "document = loader.load()"
   ]
  },
  {
   "cell_type": "code",
   "execution_count": 98,
   "id": "1447b781",
   "metadata": {},
   "outputs": [
    {
     "data": {
      "text/plain": [
       "[Document(metadata={'source': 'C:\\\\Users\\\\Maria Raquel\\\\RAG_LLM_INTRODUCTION\\\\data\\\\mediumblog1.txt'}, page_content='Title: Vector Database: What is it and Why You Should Know It?\\n\\nAuthor: Ejiro Onose\\nDate: December 22, 2023\\n\\nIf 2021 was the year of graph databases, 2023 is the year of vector databases â€” Chip Huen.\\n\\nGenerative AI and Large Language Models (LLMs) have become popular, and a vector database is one of the best tools to handle LLM data. Vector databases provide the ideal infrastructure for managing the complex, high-dimensional data that LLMs produce and rely upon.\\n\\nIn this article, Iâ€™ll explain what vector databases are, how they work, and introduce some top vector database tools.\\n\\n What is a Vector?\\nIn machine learning (ML), a vector is a collection of numerical values that represents the features of multi-dimensional objects, such as words or images. For example, a vector representing an image might contain values related to pixel intensities and color channels.\\n\\n What are Embeddings?\\nAn embedding is a technique for representing complex data (e.g., images, text, audio) as numerical vectors. These vectors capture the semantic similarity between different objects, making similar objects appear closer in vector space. Embeddings are essential in ML applications for tasks like clustering and anomaly detection, and vector databases efficiently store and query these embeddings.\\n\\nNote: An embedding is a vector representation, but not all vectors are embeddings.\\n\\n What is a Vector Database?\\nA vector database stores and manages unstructured data (e.g., text, images, audio) in high-dimensional vectors, enabling efficient retrieval of similar objects at scale. They use vector similarity search algorithms to quickly compare and retrieve data.\\n\\nVector databases are valuable in various applications, from recommender systems to supporting long-term memory in LLM applications, text understanding, and drug discovery.\\n\\n Benefits of Vector Databases\\n1. Handling Massive Data Loads: Vector databases can manage the extensive data generated by LLMs and generative AI.\\n2. Efficient Similarity Searches: Ideal for tasks like image search and content recommendation.\\n3. Integration with ML Algorithms: Allows seamless storage and retrieval of data relevant to ML models.\\n4. Handling Vector Embeddings: Superior for managing embeddings with real-time updates, security, and scalability.\\n\\n Popular Vector Databases\\nHere are some top vector database solutions:\\n\\n- Weaviate: Open-source, supports various data modalities, and integrates with popular ML frameworks.\\n- Pinecone: Fully managed, scalable, and secure; ideal for large ML applications.\\n- Chroma DB: Open-source with self-hosted options, supports in-memory and persistent storage.\\n- Qdrant: Offers disk-stored collections and supports complex query conditions.\\n- Milvus: Open-source with a distributed architecture; handles trillions of vectors and high query throughput.\\n\\n How to Choose the Right Vector Database\\nConsider the following factors:\\n- Scalability for large datasets.\\n- Performance for fast query execution.\\n- Security for robust data protection.\\n- Cost to ensure affordability.\\n- Query Interfaces for ease of interaction.\\n- Deployment Options and Integration Capabilities with existing LLM infrastructure.\\n\\nConclusion\\nVector databases are essential for building LLM applications, offering efficient management of high-dimensional data. Let me know your thoughts on the vector databases mentioned here, and feel free to share your experiences with them.\\n\\nHappy Building!\\n\\n\\nEjiro Onose\\n')]"
      ]
     },
     "execution_count": 98,
     "metadata": {},
     "output_type": "execute_result"
    }
   ],
   "source": [
    "document"
   ]
  },
  {
   "cell_type": "markdown",
   "id": "e16244c1",
   "metadata": {},
   "source": [
    "### Fatiamento/ Splinting dos documentos"
   ]
  },
  {
   "cell_type": "code",
   "execution_count": 99,
   "id": "54dd0d93",
   "metadata": {},
   "outputs": [
    {
     "name": "stdout",
     "output_type": "stream",
     "text": [
      "Total de partes criadas: 5\n"
     ]
    }
   ],
   "source": [
    "text_splitter = CharacterTextSplitter(chunk_size=1000, chunk_overlap=0)\n",
    "docs = text_splitter.split_documents(document)\n",
    "print(f\"Total de partes criadas: {len(docs)}\")\n"
   ]
  },
  {
   "cell_type": "markdown",
   "id": "d0eeb492",
   "metadata": {},
   "source": [
    "### INSTANCIAR BANCO DE DADOS"
   ]
  },
  {
   "cell_type": "code",
   "execution_count": 100,
   "id": "bf2075c2",
   "metadata": {},
   "outputs": [],
   "source": [
    "vectorstore_from_docs = PineconeVectorStore.from_documents(\n",
    "    docs, \n",
    "    index_name=index_name, \n",
    "    embedding=embeddings\n",
    ")"
   ]
  },
  {
   "cell_type": "code",
   "execution_count": 101,
   "id": "66157a40",
   "metadata": {},
   "outputs": [],
   "source": [
    "vectorstore = PineconeVectorStore(\n",
    "    index_name=index_name,\n",
    "    embedding=embeddings\n",
    ")"
   ]
  },
  {
   "cell_type": "code",
   "execution_count": 102,
   "id": "fd943cfc",
   "metadata": {},
   "outputs": [
    {
     "data": {
      "text/plain": [
       "[Document(id='b1558104-bb40-48a9-8675-22e2e0d6a124', metadata={'source': 'C:\\\\Users\\\\Maria Raquel\\\\RAG_LLM_INTRODUCTION\\\\data\\\\mediumblog1.txt'}, page_content='Title: Vector Database: What is it and Why You Should Know It?\\n\\nAuthor: Ejiro Onose\\nDate: December 22, 2023\\n\\nIf 2021 was the year of graph databases, 2023 is the year of vector databases â€” Chip Huen.\\n\\nGenerative AI and Large Language Models (LLMs) have become popular, and a vector database is one of the best tools to handle LLM data. Vector databases provide the ideal infrastructure for managing the complex, high-dimensional data that LLMs produce and rely upon.\\n\\nIn this article, Iâ€™ll explain what vector databases are, how they work, and introduce some top vector database tools.\\n\\n What is a Vector?\\nIn machine learning (ML), a vector is a collection of numerical values that represents the features of multi-dimensional objects, such as words or images. For example, a vector representing an image might contain values related to pixel intensities and color channels.'),\n",
       " Document(id='6ad195d7-4005-4899-a9a6-19570ed35bb1', metadata={'source': 'C:\\\\Users\\\\Maria Raquel\\\\RAG_LLM_INTRODUCTION\\\\data\\\\mediumblog1.txt'}, page_content='Title: Vector Database: What is it and Why You Should Know It?\\n\\nAuthor: Ejiro Onose\\nDate: December 22, 2023\\n\\nIf 2021 was the year of graph databases, 2023 is the year of vector databases â€” Chip Huen.\\n\\nGenerative AI and Large Language Models (LLMs) have become popular, and a vector database is one of the best tools to handle LLM data. Vector databases provide the ideal infrastructure for managing the complex, high-dimensional data that LLMs produce and rely upon.\\n\\nIn this article, Iâ€™ll explain what vector databases are, how they work, and introduce some top vector database tools.\\n\\n What is a Vector?\\nIn machine learning (ML), a vector is a collection of numerical values that represents the features of multi-dimensional objects, such as words or images. For example, a vector representing an image might contain values related to pixel intensities and color channels.'),\n",
       " Document(id='561739f2-6a47-4f94-aa3d-835d1381e016', metadata={'source': 'C:\\\\Users\\\\Maria Raquel\\\\RAG_LLM_INTRODUCTION\\\\data\\\\mediumblog1.txt'}, page_content='Title: Vector Database: What is it and Why You Should Know It?\\n\\nAuthor: Ejiro Onose\\nDate: December 22, 2023\\n\\nIf 2021 was the year of graph databases, 2023 is the year of vector databases â€” Chip Huen.\\n\\nGenerative AI and Large Language Models (LLMs) have become popular, and a vector database is one of the best tools to handle LLM data. Vector databases provide the ideal infrastructure for managing the complex, high-dimensional data that LLMs produce and rely upon.\\n\\nIn this article, Iâ€™ll explain what vector databases are, how they work, and introduce some top vector database tools.\\n\\n What is a Vector?\\nIn machine learning (ML), a vector is a collection of numerical values that represents the features of multi-dimensional objects, such as words or images. For example, a vector representing an image might contain values related to pixel intensities and color channels.'),\n",
       " Document(id='a8c185f0-9e00-4eec-8091-01da69eb374a', metadata={'source': 'C:\\\\Users\\\\Maria Raquel\\\\RAG_LLM_INTRODUCTION\\\\data\\\\mediumblog1.txt'}, page_content='Title: Vector Database: What is it and Why You Should Know It?\\n\\nAuthor: Ejiro Onose\\nDate: December 22, 2023\\n\\nIf 2021 was the year of graph databases, 2023 is the year of vector databases â€” Chip Huen.\\n\\nGenerative AI and Large Language Models (LLMs) have become popular, and a vector database is one of the best tools to handle LLM data. Vector databases provide the ideal infrastructure for managing the complex, high-dimensional data that LLMs produce and rely upon.\\n\\nIn this article, Iâ€™ll explain what vector databases are, how they work, and introduce some top vector database tools.\\n\\n What is a Vector?\\nIn machine learning (ML), a vector is a collection of numerical values that represents the features of multi-dimensional objects, such as words or images. For example, a vector representing an image might contain values related to pixel intensities and color channels.')]"
      ]
     },
     "execution_count": 102,
     "metadata": {},
     "output_type": "execute_result"
    }
   ],
   "source": [
    "query = \"what is Vector Store?\"\n",
    "vectorstore.similarity_search(query)"
   ]
  },
  {
   "cell_type": "markdown",
   "id": "2fc63fc6",
   "metadata": {},
   "source": [
    "### Criar a LLM"
   ]
  },
  {
   "cell_type": "code",
   "execution_count": 103,
   "id": "49f8909a",
   "metadata": {},
   "outputs": [],
   "source": [
    "llm = ChatGroq(\n",
    "    model=\"Gemma2-9b-It\", #modelo de llm utilizado\n",
    "    groq_api_key=GROQ_API_KEY, #chave de api do groq\n",
    "    temperature=0.1 #temperatura do llm\n",
    ")"
   ]
  },
  {
   "cell_type": "markdown",
   "id": "1cfbb456",
   "metadata": {},
   "source": [
    "### Carregar um prompt \"padrão\" via langchain hub  e criar o retriever"
   ]
  },
  {
   "cell_type": "code",
   "execution_count": 104,
   "id": "5be00a2a",
   "metadata": {},
   "outputs": [
    {
     "name": "stderr",
     "output_type": "stream",
     "text": [
      "c:\\Users\\Maria Raquel\\RAG_LLM_INTRODUCTION\\venv\\Lib\\site-packages\\langsmith\\client.py:278: LangSmithMissingAPIKeyWarning: API key must be provided when using hosted LangSmith API\n",
      "  warnings.warn(\n"
     ]
    }
   ],
   "source": [
    "retrieval_qa_chat_prompt = hub.pull(\"langchain-ai/retrieval-qa-chat\")\n",
    "combine_docs_chain   = create_stuff_documents_chain(\n",
    "    llm, retrieval_qa_chat_prompt\n",
    ")"
   ]
  },
  {
   "cell_type": "markdown",
   "id": "1925bdc6",
   "metadata": {},
   "source": [
    "### criar a chain com base no prompt e retriever"
   ]
  },
  {
   "cell_type": "code",
   "execution_count": 105,
   "id": "4f445285",
   "metadata": {},
   "outputs": [],
   "source": [
    "qa = create_retrieval_chain(\n",
    "    vectorstore.as_retriever(), \n",
    "    combine_docs_chain\n",
    "    )"
   ]
  },
  {
   "cell_type": "code",
   "execution_count": 106,
   "id": "b02b55d6",
   "metadata": {},
   "outputs": [
    {
     "name": "stdout",
     "output_type": "stream",
     "text": [
      "A vector store is a specialized database designed to efficiently store and retrieve high-dimensional vectors. \n",
      "\n",
      "These vectors represent data points like words, images, or audio, capturing their semantic meaning or characteristics. \n",
      "\n",
      "Vector stores are crucial for applications powered by generative AI and large language models, enabling fast and accurate similarity searches. \n",
      "\n",
      "\n",
      "\n"
     ]
    }
   ],
   "source": [
    "res = qa.invoke({\"input\": \"What is vector store in 3 sentences?\"})\n",
    "print(res['answer'])"
   ]
  }
 ],
 "metadata": {
  "kernelspec": {
   "display_name": "venv",
   "language": "python",
   "name": "python3"
  },
  "language_info": {
   "codemirror_mode": {
    "name": "ipython",
    "version": 3
   },
   "file_extension": ".py",
   "mimetype": "text/x-python",
   "name": "python",
   "nbconvert_exporter": "python",
   "pygments_lexer": "ipython3",
   "version": "3.12.4"
  }
 },
 "nbformat": 4,
 "nbformat_minor": 5
}
